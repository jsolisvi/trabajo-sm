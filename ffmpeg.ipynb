{
 "cells": [
  {
   "cell_type": "code",
   "execution_count": 4,
   "id": "9ba472bc-6ffa-4336-aa76-92cba3a84fe1",
   "metadata": {},
   "outputs": [
    {
     "name": "stdout",
     "output_type": "stream",
     "text": [
      "shell-init: error al obtener el directorio actual: getcwd: no se puede acceder a los directorios padre: No existe el archivo o el directorio\n",
      "sh: 0: getcwd() failed: No such file or directory\n"
     ]
    }
   ],
   "source": [
    "# Download latest FFmpeg static build.  \n",
    "exist = !which ffmpeg\n",
    "if not exist:\n",
    "  !curl https://johnvansickle.com/ffmpeg/releases/ffmpeg-release-amd64-static.tar.xz -o ffmpeg.tar.xz \\\n",
    "     && tar -xf ffmpeg.tar.xz && rm ffmpeg.tar.xz\n",
    "  ffmdir = !find . -iname ffmpeg-*-static\n",
    "  path = %env PATH\n",
    "  path = path + ':' + ffmdir[0]\n",
    "  %env PATH $path\n",
    "\n",
    "!which ffmpeg"
   ]
  },
  {
   "cell_type": "code",
   "execution_count": 9,
   "id": "32721f28-34d3-4336-908f-084b7d7963a4",
   "metadata": {
    "collapsed": true,
    "jupyter": {
     "outputs_hidden": true
    },
    "tags": []
   },
   "outputs": [
    {
     "name": "stdout",
     "output_type": "stream",
     "text": [
      "ffmpeg version 6.0-static https://johnvansickle.com/ffmpeg/  Copyright (c) 2000-2023 the FFmpeg developers\n",
      "  built with gcc 8 (Debian 8.3.0-6)\n",
      "  configuration: --enable-gpl --enable-version3 --enable-static --disable-debug --disable-ffplay --disable-indev=sndio --disable-outdev=sndio --cc=gcc --enable-fontconfig --enable-frei0r --enable-gnutls --enable-gmp --enable-libgme --enable-gray --enable-libaom --enable-libfribidi --enable-libass --enable-libvmaf --enable-libfreetype --enable-libmp3lame --enable-libopencore-amrnb --enable-libopencore-amrwb --enable-libopenjpeg --enable-librubberband --enable-libsoxr --enable-libspeex --enable-libsrt --enable-libvorbis --enable-libopus --enable-libtheora --enable-libvidstab --enable-libvo-amrwbenc --enable-libvpx --enable-libwebp --enable-libx264 --enable-libx265 --enable-libxml2 --enable-libdav1d --enable-libxvid --enable-libzvbi --enable-libzimg\n",
      "  libavutil      58.  2.100 / 58.  2.100\n",
      "  libavcodec     60.  3.100 / 60.  3.100\n",
      "  libavformat    60.  3.100 / 60.  3.100\n",
      "  libavdevice    60.  1.100 / 60.  1.100\n",
      "  libavfilter     9.  3.100 /  9.  3.100\n",
      "  libswscale      7.  1.100 /  7.  1.100\n",
      "  libswresample   4. 10.100 /  4. 10.100\n",
      "  libpostproc    57.  1.100 / 57.  1.100\n",
      "Input #0, mov,mp4,m4a,3gp,3g2,mj2, from 'Ibai.mp4':\n",
      "  Metadata:\n",
      "    major_brand     : mp42\n",
      "    minor_version   : 0\n",
      "    compatible_brands: isommp42\n",
      "    creation_time   : 2023-03-12T08:48:17.000000Z\n",
      "  Duration: 00:09:48.58, start: 0.000000, bitrate: 783 kb/s\n",
      "  Stream #0:0[0x1](und): Video: h264 (Main) (avc1 / 0x31637661), yuv420p(tv, bt709, progressive), 1280x720 [SAR 1:1 DAR 16:9], 652 kb/s, 25 fps, 25 tbr, 12800 tbn (default)\n",
      "    Metadata:\n",
      "      creation_time   : 2023-03-12T08:48:17.000000Z\n",
      "      handler_name    : ISO Media file produced by Google Inc. Created on: 03/12/2023.\n",
      "      vendor_id       : [0][0][0][0]\n",
      "  Stream #0:1[0x2](eng): Audio: aac (LC) (mp4a / 0x6134706D), 44100 Hz, stereo, fltp, 127 kb/s (default)\n",
      "    Metadata:\n",
      "      creation_time   : 2023-03-12T08:48:17.000000Z\n",
      "      handler_name    : ISO Media file produced by Google Inc. Created on: 03/12/2023.\n",
      "      vendor_id       : [0][0][0][0]\n",
      "Stream mapping:\n",
      "  Stream #0:0 -> #0:0 (h264 (native) -> h264 (libx264))\n",
      "  Stream #0:1 -> #0:1 (aac (native) -> aac (native))\n",
      "Press [q] to stop, [?] for help\n",
      "\u001b[1;36m[libx264 @ 0x5dd31c0] \u001b[0musing SAR=1/1\n",
      "\u001b[1;36m[libx264 @ 0x5dd31c0] \u001b[0musing cpu capabilities: MMX2 SSE2Fast SSSE3 SSE4.2 AVX FMA3 BMI2 AVX2 AVX512\n",
      "\u001b[1;36m[libx264 @ 0x5dd31c0] \u001b[0mprofile High, level 3.1, 4:2:0, 8-bit\n",
      "\u001b[1;36m[libx264 @ 0x5dd31c0] \u001b[0m264 - core 164 r3106 eaa68fa - H.264/MPEG-4 AVC codec - Copyleft 2003-2023 - http://www.videolan.org/x264.html - options: cabac=1 ref=3 deblock=1:0:0 analyse=0x3:0x113 me=hex subme=7 psy=1 psy_rd=1.00:0.00 mixed_ref=1 me_range=16 chroma_me=1 trellis=1 8x8dct=1 cqm=0 deadzone=21,11 fast_pskip=1 chroma_qp_offset=-2 threads=12 lookahead_threads=2 sliced_threads=0 nr=0 decimate=1 interlaced=0 bluray_compat=0 constrained_intra=0 bframes=3 b_pyramid=2 b_adapt=1 b_bias=0 direct=1 weightb=1 open_gop=0 weightp=2 keyint=250 keyint_min=25 scenecut=40 intra_refresh=0 rc_lookahead=40 rc=crf mbtree=1 crf=23.0 qcomp=0.60 qpmin=0 qpmax=69 qpstep=4 ip_ratio=1.40 aq=1:1.00\n",
      "Output #0, mp4, to 'output_rotate.mp4':\n",
      "  Metadata:\n",
      "    major_brand     : mp42\n",
      "    minor_version   : 0\n",
      "    compatible_brands: isommp42\n",
      "    encoder         : Lavf60.3.100\n",
      "  Stream #0:0(und): Video: h264 (avc1 / 0x31637661), yuv420p(tv, bt709, progressive), 1280x720 [SAR 1:1 DAR 16:9], q=2-31, 25 fps, 12800 tbn (default)\n",
      "    Metadata:\n",
      "      creation_time   : 2023-03-12T08:48:17.000000Z\n",
      "      handler_name    : ISO Media file produced by Google Inc. Created on: 03/12/2023.\n",
      "      vendor_id       : [0][0][0][0]\n",
      "      encoder         : Lavc60.3.100 libx264\n",
      "    Side data:\n",
      "      cpb: bitrate max/min/avg: 0/0/0 buffer size: 0 vbv_delay: N/A\n",
      "  Stream #0:1(eng): Audio: aac (LC) (mp4a / 0x6134706D), 44100 Hz, stereo, fltp, 128 kb/s (default)\n",
      "    Metadata:\n",
      "      creation_time   : 2023-03-12T08:48:17.000000Z\n",
      "      handler_name    : ISO Media file produced by Google Inc. Created on: 03/12/2023.\n",
      "      vendor_id       : [0][0][0][0]\n",
      "      encoder         : Lavc60.3.100 aac\n",
      "frame=14714 fps= 73 q=-1.0 Lsize=   59898kB time=00:09:48.55 bitrate= 833.7kbits/s speed=2.92x     \n",
      "video:49903kB audio:9512kB subtitle:0kB other streams:0kB global headers:0kB muxing overhead: 0.811714%\n",
      "\u001b[1;36m[libx264 @ 0x5dd31c0] \u001b[0mframe I:109   Avg QP:14.54  size: 37870\n",
      "\u001b[1;36m[libx264 @ 0x5dd31c0] \u001b[0mframe P:3814  Avg QP:21.00  size:  7423\n",
      "\u001b[1;36m[libx264 @ 0x5dd31c0] \u001b[0mframe B:10791 Avg QP:23.68  size:  1729\n",
      "\u001b[1;36m[libx264 @ 0x5dd31c0] \u001b[0mconsecutive B-frames:  1.3%  1.6%  3.0% 94.0%\n",
      "\u001b[1;36m[libx264 @ 0x5dd31c0] \u001b[0mmb I  I16..4: 31.5% 52.2% 16.3%\n",
      "\u001b[1;36m[libx264 @ 0x5dd31c0] \u001b[0mmb P  I16..4:  1.2%  4.9%  0.5%  P16..4: 26.1%  7.9%  3.5%  0.0%  0.0%    skip:55.8%\n",
      "\u001b[1;36m[libx264 @ 0x5dd31c0] \u001b[0mmb B  I16..4:  0.1%  0.2%  0.0%  B16..8: 21.5%  1.6%  0.2%  direct: 0.2%  skip:76.3%  L0:44.5% L1:52.9% BI: 2.6%\n",
      "\u001b[1;36m[libx264 @ 0x5dd31c0] \u001b[0m8x8 transform intra:68.5% inter:86.7%\n",
      "\u001b[1;36m[libx264 @ 0x5dd31c0] \u001b[0mcoded y,uvDC,uvAC intra: 39.1% 53.0% 18.8% inter: 3.7% 4.2% 0.1%\n",
      "\u001b[1;36m[libx264 @ 0x5dd31c0] \u001b[0mi16 v,h,dc,p: 47% 10% 11% 32%\n",
      "\u001b[1;36m[libx264 @ 0x5dd31c0] \u001b[0mi8 v,h,dc,ddl,ddr,vr,hd,vl,hu: 15% 12% 28%  6%  7%  5% 11% 10%  4%\n",
      "\u001b[1;36m[libx264 @ 0x5dd31c0] \u001b[0mi4 v,h,dc,ddl,ddr,vr,hd,vl,hu: 18% 15% 19%  7%  9%  6% 12% 11%  3%\n",
      "\u001b[1;36m[libx264 @ 0x5dd31c0] \u001b[0mi8c dc,h,v,p: 62% 15% 15%  9%\n",
      "\u001b[1;36m[libx264 @ 0x5dd31c0] \u001b[0mWeighted P-Frames: Y:0.1% UV:0.0%\n",
      "\u001b[1;36m[libx264 @ 0x5dd31c0] \u001b[0mref P L0: 59.8% 10.6% 21.0%  8.7%  0.0%\n",
      "\u001b[1;36m[libx264 @ 0x5dd31c0] \u001b[0mref B L0: 88.8%  8.8%  2.3%\n",
      "\u001b[1;36m[libx264 @ 0x5dd31c0] \u001b[0mref B L1: 96.6%  3.4%\n",
      "\u001b[1;36m[libx264 @ 0x5dd31c0] \u001b[0mkb/s:694.58\n",
      "\u001b[1;36m[aac @ 0x5e05a80] \u001b[0mQavg: 713.070\n"
     ]
    }
   ],
   "source": [
    "!ffmpeg -i Ibai.mp4 -vf \"rotate=90\" output_rotate.mp4"
   ]
  },
  {
   "cell_type": "code",
   "execution_count": 10,
   "id": "289b66a5-e5ab-43d0-93dc-12cc843e2823",
   "metadata": {},
   "outputs": [
    {
     "data": {
      "text/html": [
       "<video src=\"./output_rotate.mp4\" controls  width=\"400\"  height=\"300\">\n",
       "      Your browser does not support the <code>video</code> element.\n",
       "    </video>"
      ],
      "text/plain": [
       "<IPython.core.display.Video object>"
      ]
     },
     "execution_count": 10,
     "metadata": {},
     "output_type": "execute_result"
    }
   ],
   "source": [
    "from IPython.display import Video\n",
    "#Video(\"./output_rotate.mp4\", width=400, height=300)"
   ]
  },
  {
   "cell_type": "code",
   "execution_count": null,
   "id": "6f7cf048-9c7d-4a82-b1ea-384b1c5ea0b2",
   "metadata": {},
   "outputs": [],
   "source": []
  }
 ],
 "metadata": {
  "kernelspec": {
   "display_name": "Python 3 (ipykernel)",
   "language": "python",
   "name": "python3"
  },
  "language_info": {
   "codemirror_mode": {
    "name": "ipython",
    "version": 3
   },
   "file_extension": ".py",
   "mimetype": "text/x-python",
   "name": "python",
   "nbconvert_exporter": "python",
   "pygments_lexer": "ipython3",
   "version": "3.9.16"
  }
 },
 "nbformat": 4,
 "nbformat_minor": 5
}
